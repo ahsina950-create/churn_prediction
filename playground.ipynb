{
 "cells": [
  {
   "cell_type": "code",
   "execution_count": 1,
   "id": "94925dd9",
   "metadata": {
    "execution": {
     "iopub.execute_input": "2025-07-29T18:29:06.090301Z",
     "iopub.status.busy": "2025-07-29T18:29:06.089846Z",
     "iopub.status.idle": "2025-07-29T18:29:12.537732Z",
     "shell.execute_reply": "2025-07-29T18:29:12.536421Z"
    },
    "papermill": {
     "duration": 6.456841,
     "end_time": "2025-07-29T18:29:12.539836",
     "exception": false,
     "start_time": "2025-07-29T18:29:06.082995",
     "status": "completed"
    },
    "tags": []
   },
   "outputs": [],
   "source": [
    "import numpy as np\n",
    "import pandas as pd\n",
    "import matplotlib.pyplot as plt\n",
    "import seaborn as sns\n",
    "from sklearn.model_selection import train_test_split\n",
    "from sklearn.ensemble import RandomForestClassifier\n",
    "from sklearn.metrics import accuracy_score"
   ]
  },
  {
   "cell_type": "code",
   "execution_count": 2,
   "id": "05d0a642",
   "metadata": {
    "execution": {
     "iopub.execute_input": "2025-07-29T18:29:12.550843Z",
     "iopub.status.busy": "2025-07-29T18:29:12.550250Z",
     "iopub.status.idle": "2025-07-29T18:29:12.610922Z",
     "shell.execute_reply": "2025-07-29T18:29:12.609596Z"
    },
    "papermill": {
     "duration": 0.069515,
     "end_time": "2025-07-29T18:29:12.614051",
     "exception": false,
     "start_time": "2025-07-29T18:29:12.544536",
     "status": "completed"
    },
    "tags": []
   },
   "outputs": [],
   "source": [
    "train = pd.read_csv(\"/kaggle/input/playground-series-s5e7/train.csv\")"
   ]
  },
  {
   "cell_type": "code",
   "execution_count": 3,
   "id": "3f8bddd6",
   "metadata": {
    "execution": {
     "iopub.execute_input": "2025-07-29T18:29:12.624624Z",
     "iopub.status.busy": "2025-07-29T18:29:12.624189Z",
     "iopub.status.idle": "2025-07-29T18:29:12.643687Z",
     "shell.execute_reply": "2025-07-29T18:29:12.641774Z"
    },
    "papermill": {
     "duration": 0.027525,
     "end_time": "2025-07-29T18:29:12.646257",
     "exception": false,
     "start_time": "2025-07-29T18:29:12.618732",
     "status": "completed"
    },
    "tags": []
   },
   "outputs": [],
   "source": [
    "test = pd.read_csv(\"/kaggle/input/playground-series-s5e7/test.csv\")"
   ]
  },
  {
   "cell_type": "code",
   "execution_count": 4,
   "id": "04c8c6cb",
   "metadata": {
    "execution": {
     "iopub.execute_input": "2025-07-29T18:29:12.656241Z",
     "iopub.status.busy": "2025-07-29T18:29:12.655857Z",
     "iopub.status.idle": "2025-07-29T18:29:12.670458Z",
     "shell.execute_reply": "2025-07-29T18:29:12.668703Z"
    },
    "papermill": {
     "duration": 0.022059,
     "end_time": "2025-07-29T18:29:12.672709",
     "exception": false,
     "start_time": "2025-07-29T18:29:12.650650",
     "status": "completed"
    },
    "tags": []
   },
   "outputs": [],
   "source": [
    "submission = pd.read_csv(\"/kaggle/input/playground-series-s5e7/sample_submission.csv\")"
   ]
  },
  {
   "cell_type": "code",
   "execution_count": 5,
   "id": "b1e23f9a",
   "metadata": {
    "execution": {
     "iopub.execute_input": "2025-07-29T18:29:12.682845Z",
     "iopub.status.busy": "2025-07-29T18:29:12.682471Z",
     "iopub.status.idle": "2025-07-29T18:29:12.721145Z",
     "shell.execute_reply": "2025-07-29T18:29:12.719855Z"
    },
    "papermill": {
     "duration": 0.045837,
     "end_time": "2025-07-29T18:29:12.722929",
     "exception": false,
     "start_time": "2025-07-29T18:29:12.677092",
     "status": "completed"
    },
    "tags": []
   },
   "outputs": [
    {
     "name": "stderr",
     "output_type": "stream",
     "text": [
      "/usr/local/lib/python3.11/dist-packages/pandas/io/formats/format.py:1458: RuntimeWarning: invalid value encountered in greater\n",
      "  has_large_values = (abs_vals > 1e6).any()\n",
      "/usr/local/lib/python3.11/dist-packages/pandas/io/formats/format.py:1459: RuntimeWarning: invalid value encountered in less\n",
      "  has_small_values = ((abs_vals < 10 ** (-self.digits)) & (abs_vals > 0)).any()\n",
      "/usr/local/lib/python3.11/dist-packages/pandas/io/formats/format.py:1459: RuntimeWarning: invalid value encountered in greater\n",
      "  has_small_values = ((abs_vals < 10 ** (-self.digits)) & (abs_vals > 0)).any()\n"
     ]
    },
    {
     "data": {
      "text/html": [
       "<div>\n",
       "<style scoped>\n",
       "    .dataframe tbody tr th:only-of-type {\n",
       "        vertical-align: middle;\n",
       "    }\n",
       "\n",
       "    .dataframe tbody tr th {\n",
       "        vertical-align: top;\n",
       "    }\n",
       "\n",
       "    .dataframe thead th {\n",
       "        text-align: right;\n",
       "    }\n",
       "</style>\n",
       "<table border=\"1\" class=\"dataframe\">\n",
       "  <thead>\n",
       "    <tr style=\"text-align: right;\">\n",
       "      <th></th>\n",
       "      <th>id</th>\n",
       "      <th>Time_spent_Alone</th>\n",
       "      <th>Stage_fear</th>\n",
       "      <th>Social_event_attendance</th>\n",
       "      <th>Going_outside</th>\n",
       "      <th>Drained_after_socializing</th>\n",
       "      <th>Friends_circle_size</th>\n",
       "      <th>Post_frequency</th>\n",
       "      <th>Personality</th>\n",
       "    </tr>\n",
       "  </thead>\n",
       "  <tbody>\n",
       "    <tr>\n",
       "      <th>0</th>\n",
       "      <td>0</td>\n",
       "      <td>0.0</td>\n",
       "      <td>No</td>\n",
       "      <td>6.0</td>\n",
       "      <td>4.0</td>\n",
       "      <td>No</td>\n",
       "      <td>15.0</td>\n",
       "      <td>5.0</td>\n",
       "      <td>Extrovert</td>\n",
       "    </tr>\n",
       "    <tr>\n",
       "      <th>1</th>\n",
       "      <td>1</td>\n",
       "      <td>1.0</td>\n",
       "      <td>No</td>\n",
       "      <td>7.0</td>\n",
       "      <td>3.0</td>\n",
       "      <td>No</td>\n",
       "      <td>10.0</td>\n",
       "      <td>8.0</td>\n",
       "      <td>Extrovert</td>\n",
       "    </tr>\n",
       "    <tr>\n",
       "      <th>2</th>\n",
       "      <td>2</td>\n",
       "      <td>6.0</td>\n",
       "      <td>Yes</td>\n",
       "      <td>1.0</td>\n",
       "      <td>0.0</td>\n",
       "      <td>NaN</td>\n",
       "      <td>3.0</td>\n",
       "      <td>0.0</td>\n",
       "      <td>Introvert</td>\n",
       "    </tr>\n",
       "    <tr>\n",
       "      <th>3</th>\n",
       "      <td>3</td>\n",
       "      <td>3.0</td>\n",
       "      <td>No</td>\n",
       "      <td>7.0</td>\n",
       "      <td>3.0</td>\n",
       "      <td>No</td>\n",
       "      <td>11.0</td>\n",
       "      <td>5.0</td>\n",
       "      <td>Extrovert</td>\n",
       "    </tr>\n",
       "    <tr>\n",
       "      <th>4</th>\n",
       "      <td>4</td>\n",
       "      <td>1.0</td>\n",
       "      <td>No</td>\n",
       "      <td>4.0</td>\n",
       "      <td>4.0</td>\n",
       "      <td>No</td>\n",
       "      <td>13.0</td>\n",
       "      <td>NaN</td>\n",
       "      <td>Extrovert</td>\n",
       "    </tr>\n",
       "  </tbody>\n",
       "</table>\n",
       "</div>"
      ],
      "text/plain": [
       "   id  Time_spent_Alone Stage_fear  Social_event_attendance  Going_outside  \\\n",
       "0   0               0.0         No                      6.0            4.0   \n",
       "1   1               1.0         No                      7.0            3.0   \n",
       "2   2               6.0        Yes                      1.0            0.0   \n",
       "3   3               3.0         No                      7.0            3.0   \n",
       "4   4               1.0         No                      4.0            4.0   \n",
       "\n",
       "  Drained_after_socializing  Friends_circle_size  Post_frequency Personality  \n",
       "0                        No                 15.0             5.0   Extrovert  \n",
       "1                        No                 10.0             8.0   Extrovert  \n",
       "2                       NaN                  3.0             0.0   Introvert  \n",
       "3                        No                 11.0             5.0   Extrovert  \n",
       "4                        No                 13.0             NaN   Extrovert  "
      ]
     },
     "execution_count": 5,
     "metadata": {},
     "output_type": "execute_result"
    }
   ],
   "source": [
    "train.head()"
   ]
  },
  {
   "cell_type": "code",
   "execution_count": 6,
   "id": "2b3fc4cc",
   "metadata": {
    "execution": {
     "iopub.execute_input": "2025-07-29T18:29:12.733162Z",
     "iopub.status.busy": "2025-07-29T18:29:12.732821Z",
     "iopub.status.idle": "2025-07-29T18:29:12.747519Z",
     "shell.execute_reply": "2025-07-29T18:29:12.746227Z"
    },
    "papermill": {
     "duration": 0.022185,
     "end_time": "2025-07-29T18:29:12.749618",
     "exception": false,
     "start_time": "2025-07-29T18:29:12.727433",
     "status": "completed"
    },
    "tags": []
   },
   "outputs": [
    {
     "name": "stdout",
     "output_type": "stream",
     "text": [
      "Shape: (18524, 9)\n",
      "Columns: Index(['id', 'Time_spent_Alone', 'Stage_fear', 'Social_event_attendance',\n",
      "       'Going_outside', 'Drained_after_socializing', 'Friends_circle_size',\n",
      "       'Post_frequency', 'Personality'],\n",
      "      dtype='object')\n",
      "Missing values:\n",
      " id                              0\n",
      "Time_spent_Alone             1190\n",
      "Stage_fear                   1893\n",
      "Social_event_attendance      1180\n",
      "Going_outside                1466\n",
      "Drained_after_socializing    1149\n",
      "Friends_circle_size          1054\n",
      "Post_frequency               1264\n",
      "Personality                     0\n",
      "dtype: int64\n"
     ]
    }
   ],
   "source": [
    "print(\"Shape:\", train.shape)\n",
    "print(\"Columns:\", train.columns)\n",
    "print(\"Missing values:\\n\", train.isnull().sum())\n"
   ]
  },
  {
   "cell_type": "code",
   "execution_count": 7,
   "id": "6d53701c",
   "metadata": {
    "execution": {
     "iopub.execute_input": "2025-07-29T18:29:12.760746Z",
     "iopub.status.busy": "2025-07-29T18:29:12.760313Z",
     "iopub.status.idle": "2025-07-29T18:29:13.117759Z",
     "shell.execute_reply": "2025-07-29T18:29:13.116226Z"
    },
    "papermill": {
     "duration": 0.365288,
     "end_time": "2025-07-29T18:29:13.119789",
     "exception": false,
     "start_time": "2025-07-29T18:29:12.754501",
     "status": "completed"
    },
    "tags": []
   },
   "outputs": [
    {
     "data": {
      "image/png": "[encoded data removed]",
      "text/plain": [
       "<Figure size 640x480 with 1 Axes>"
      ]
     },
     "metadata": {},
     "output_type": "display_data"
    }
   ],
   "source": [
    "train.describe()\n",
    "sns.countplot(x=train[\"Personality\"])\n",
    "plt.title(\"Target Distribution\")\n",
    "plt.show()"
   ]
  },
  {
   "cell_type": "code",
   "execution_count": 8,
   "id": "2b1ec1c0",
   "metadata": {
    "execution": {
     "iopub.execute_input": "2025-07-29T18:29:13.132438Z",
     "iopub.status.busy": "2025-07-29T18:29:13.131998Z",
     "iopub.status.idle": "2025-07-29T18:29:13.138726Z",
     "shell.execute_reply": "2025-07-29T18:29:13.137255Z"
    },
    "papermill": {
     "duration": 0.016132,
     "end_time": "2025-07-29T18:29:13.141259",
     "exception": false,
     "start_time": "2025-07-29T18:29:13.125127",
     "status": "completed"
    },
    "tags": []
   },
   "outputs": [
    {
     "name": "stdout",
     "output_type": "stream",
     "text": [
      "Index(['id', 'Time_spent_Alone', 'Stage_fear', 'Social_event_attendance',\n",
      "       'Going_outside', 'Drained_after_socializing', 'Friends_circle_size',\n",
      "       'Post_frequency', 'Personality'],\n",
      "      dtype='object')\n"
     ]
    }
   ],
   "source": [
    "print(train.columns)"
   ]
  },
  {
   "cell_type": "code",
   "execution_count": 9,
   "id": "bfdfab47",
   "metadata": {
    "execution": {
     "iopub.execute_input": "2025-07-29T18:29:13.154879Z",
     "iopub.status.busy": "2025-07-29T18:29:13.153396Z",
     "iopub.status.idle": "2025-07-29T18:29:13.160236Z",
     "shell.execute_reply": "2025-07-29T18:29:13.159031Z"
    },
    "papermill": {
     "duration": 0.015519,
     "end_time": "2025-07-29T18:29:13.162256",
     "exception": false,
     "start_time": "2025-07-29T18:29:13.146737",
     "status": "completed"
    },
    "tags": []
   },
   "outputs": [],
   "source": [
    "from sklearn.preprocessing import LabelEncoder"
   ]
  },
  {
   "cell_type": "code",
   "execution_count": 10,
   "id": "a8544f01",
   "metadata": {
    "execution": {
     "iopub.execute_input": "2025-07-29T18:29:13.175182Z",
     "iopub.status.busy": "2025-07-29T18:29:13.174738Z",
     "iopub.status.idle": "2025-07-29T18:29:13.193975Z",
     "shell.execute_reply": "2025-07-29T18:29:13.192413Z"
    },
    "papermill": {
     "duration": 0.029217,
     "end_time": "2025-07-29T18:29:13.196664",
     "exception": false,
     "start_time": "2025-07-29T18:29:13.167447",
     "status": "completed"
    },
    "tags": []
   },
   "outputs": [],
   "source": [
    "\n",
    "le = LabelEncoder()\n",
    "train[\"Personality\"] = le.fit_transform(train[\"Personality\"])\n",
    "\n",
    "X = train.drop(\"Personality\", axis=1)\n",
    "y = train[\"Personality\"]"
   ]
  },
  {
   "cell_type": "code",
   "execution_count": 11,
   "id": "97c077e1",
   "metadata": {
    "execution": {
     "iopub.execute_input": "2025-07-29T18:29:13.209757Z",
     "iopub.status.busy": "2025-07-29T18:29:13.209290Z",
     "iopub.status.idle": "2025-07-29T18:29:13.218055Z",
     "shell.execute_reply": "2025-07-29T18:29:13.216483Z"
    },
    "papermill": {
     "duration": 0.017302,
     "end_time": "2025-07-29T18:29:13.220149",
     "exception": false,
     "start_time": "2025-07-29T18:29:13.202847",
     "status": "completed"
    },
    "tags": []
   },
   "outputs": [
    {
     "name": "stdout",
     "output_type": "stream",
     "text": [
      "Categorical columns: ['Stage_fear', 'Drained_after_socializing']\n"
     ]
    }
   ],
   "source": [
    "cat_cols = X.select_dtypes(include=\"object\").columns\n",
    "print(\"Categorical columns:\", cat_cols.tolist())"
   ]
  },
  {
   "cell_type": "code",
   "execution_count": 12,
   "id": "37cbea1f",
   "metadata": {
    "execution": {
     "iopub.execute_input": "2025-07-29T18:29:13.232156Z",
     "iopub.status.busy": "2025-07-29T18:29:13.231753Z",
     "iopub.status.idle": "2025-07-29T18:29:13.244788Z",
     "shell.execute_reply": "2025-07-29T18:29:13.243382Z"
    },
    "papermill": {
     "duration": 0.021844,
     "end_time": "2025-07-29T18:29:13.247323",
     "exception": false,
     "start_time": "2025-07-29T18:29:13.225479",
     "status": "completed"
    },
    "tags": []
   },
   "outputs": [],
   "source": [
    "X['is_train'] = 1\n",
    "test['is_train'] = 0\n",
    "\n",
    "combined = pd.concat([X, test], axis=0)"
   ]
  },
  {
   "cell_type": "code",
   "execution_count": 13,
   "id": "b260797e",
   "metadata": {
    "execution": {
     "iopub.execute_input": "2025-07-29T18:29:13.261946Z",
     "iopub.status.busy": "2025-07-29T18:29:13.260894Z",
     "iopub.status.idle": "2025-07-29T18:29:13.286156Z",
     "shell.execute_reply": "2025-07-29T18:29:13.284630Z"
    },
    "papermill": {
     "duration": 0.034571,
     "end_time": "2025-07-29T18:29:13.288509",
     "exception": false,
     "start_time": "2025-07-29T18:29:13.253938",
     "status": "completed"
    },
    "tags": []
   },
   "outputs": [],
   "source": [
    "combined = pd.get_dummies(combined, columns=['Stage_fear', 'Drained_after_socializing'])"
   ]
  },
  {
   "cell_type": "code",
   "execution_count": 14,
   "id": "03b34b30",
   "metadata": {
    "execution": {
     "iopub.execute_input": "2025-07-29T18:29:13.300557Z",
     "iopub.status.busy": "2025-07-29T18:29:13.300164Z",
     "iopub.status.idle": "2025-07-29T18:29:13.314873Z",
     "shell.execute_reply": "2025-07-29T18:29:13.313231Z"
    },
    "papermill": {
     "duration": 0.023602,
     "end_time": "2025-07-29T18:29:13.317446",
     "exception": false,
     "start_time": "2025-07-29T18:29:13.293844",
     "status": "completed"
    },
    "tags": []
   },
   "outputs": [],
   "source": [
    "X = combined[combined['is_train'] == 1].drop('is_train', axis=1)\n",
    "test = combined[combined['is_train'] == 0].drop('is_train', axis=1)"
   ]
  },
  {
   "cell_type": "code",
   "execution_count": 15,
   "id": "b3a432f6",
   "metadata": {
    "execution": {
     "iopub.execute_input": "2025-07-29T18:29:13.329766Z",
     "iopub.status.busy": "2025-07-29T18:29:13.329379Z",
     "iopub.status.idle": "2025-07-29T18:29:13.404409Z",
     "shell.execute_reply": "2025-07-29T18:29:13.403072Z"
    },
    "papermill": {
     "duration": 0.083823,
     "end_time": "2025-07-29T18:29:13.406521",
     "exception": false,
     "start_time": "2025-07-29T18:29:13.322698",
     "status": "completed"
    },
    "tags": []
   },
   "outputs": [],
   "source": [
    "from sklearn.impute import SimpleImputer\n",
    "\n",
    "# Create the imputer\n",
    "imputer = SimpleImputer(strategy='most_frequent')  # or 'mean' for numeric\n",
    "\n",
    "# Fit and transform X and test\n",
    "X = pd.DataFrame(imputer.fit_transform(X), columns=X.columns)\n",
    "test = pd.DataFrame(imputer.transform(test), columns=test.columns)"
   ]
  },
  {
   "cell_type": "code",
   "execution_count": 16,
   "id": "1389872e",
   "metadata": {
    "execution": {
     "iopub.execute_input": "2025-07-29T18:29:13.419780Z",
     "iopub.status.busy": "2025-07-29T18:29:13.419442Z",
     "iopub.status.idle": "2025-07-29T18:29:15.459438Z",
     "shell.execute_reply": "2025-07-29T18:29:15.458215Z"
    },
    "papermill": {
     "duration": 2.04906,
     "end_time": "2025-07-29T18:29:15.461636",
     "exception": false,
     "start_time": "2025-07-29T18:29:13.412576",
     "status": "completed"
    },
    "tags": []
   },
   "outputs": [
    {
     "data": {
      "text/html": [
       "<style>#sk-container-id-1 {color: black;background-color: white;}#sk-container-id-1 pre{padding: 0;}#sk-container-id-1 div.sk-toggleable {background-color: white;}#sk-container-id-1 label.sk-toggleable__label {cursor: pointer;display: block;width: 100%;margin-bottom: 0;padding: 0.3em;box-sizing: border-box;text-align: center;}#sk-container-id-1 label.sk-toggleable__label-arrow:before {content: \"▸\";float: left;margin-right: 0.25em;color: #696969;}#sk-container-id-1 label.sk-toggleable__label-arrow:hover:before {color: black;}#sk-container-id-1 div.sk-estimator:hover label.sk-toggleable__label-arrow:before {color: black;}#sk-container-id-1 div.sk-toggleable__content {max-height: 0;max-width: 0;overflow: hidden;text-align: left;background-color: #f0f8ff;}#sk-container-id-1 div.sk-toggleable__content pre {margin: 0.2em;color: black;border-radius: 0.25em;background-color: #f0f8ff;}#sk-container-id-1 input.sk-toggleable__control:checked~div.sk-toggleable__content {max-height: 200px;max-width: 100%;overflow: auto;}#sk-container-id-1 input.sk-toggleable__control:checked~label.sk-toggleable__label-arrow:before {content: \"▾\";}#sk-container-id-1 div.sk-estimator input.sk-toggleable__control:checked~label.sk-toggleable__label {background-color: #d4ebff;}#sk-container-id-1 div.sk-label input.sk-toggleable__control:checked~label.sk-toggleable__label {background-color: #d4ebff;}#sk-container-id-1 input.sk-hidden--visually {border: 0;clip: rect(1px 1px 1px 1px);clip: rect(1px, 1px, 1px, 1px);height: 1px;margin: -1px;overflow: hidden;padding: 0;position: absolute;width: 1px;}#sk-container-id-1 div.sk-estimator {font-family: monospace;background-color: #f0f8ff;border: 1px dotted black;border-radius: 0.25em;box-sizing: border-box;margin-bottom: 0.5em;}#sk-container-id-1 div.sk-estimator:hover {background-color: #d4ebff;}#sk-container-id-1 div.sk-parallel-item::after {content: \"\";width: 100%;border-bottom: 1px solid gray;flex-grow: 1;}#sk-container-id-1 div.sk-label:hover label.sk-toggleable__label {background-color: #d4ebff;}#sk-container-id-1 div.sk-serial::before {content: \"\";position: absolute;border-left: 1px solid gray;box-sizing: border-box;top: 0;bottom: 0;left: 50%;z-index: 0;}#sk-container-id-1 div.sk-serial {display: flex;flex-direction: column;align-items: center;background-color: white;padding-right: 0.2em;padding-left: 0.2em;position: relative;}#sk-container-id-1 div.sk-item {position: relative;z-index: 1;}#sk-container-id-1 div.sk-parallel {display: flex;align-items: stretch;justify-content: center;background-color: white;position: relative;}#sk-container-id-1 div.sk-item::before, #sk-container-id-1 div.sk-parallel-item::before {content: \"\";position: absolute;border-left: 1px solid gray;box-sizing: border-box;top: 0;bottom: 0;left: 50%;z-index: -1;}#sk-container-id-1 div.sk-parallel-item {display: flex;flex-direction: column;z-index: 1;position: relative;background-color: white;}#sk-container-id-1 div.sk-parallel-item:first-child::after {align-self: flex-end;width: 50%;}#sk-container-id-1 div.sk-parallel-item:last-child::after {align-self: flex-start;width: 50%;}#sk-container-id-1 div.sk-parallel-item:only-child::after {width: 0;}#sk-container-id-1 div.sk-dashed-wrapped {border: 1px dashed gray;margin: 0 0.4em 0.5em 0.4em;box-sizing: border-box;padding-bottom: 0.4em;background-color: white;}#sk-container-id-1 div.sk-label label {font-family: monospace;font-weight: bold;display: inline-block;line-height: 1.2em;}#sk-container-id-1 div.sk-label-container {text-align: center;}#sk-container-id-1 div.sk-container {/* jupyter's `normalize.less` sets `[hidden] { display: none; }` but bootstrap.min.css set `[hidden] { display: none !important; }` so we also need the `!important` here to be able to override the default hidden behavior on the sphinx rendered scikit-learn.org. See: https://github.com/scikit-learn/scikit-learn/issues/21755 */display: inline-block !important;position: relative;}#sk-container-id-1 div.sk-text-repr-fallback {display: none;}</style><div id=\"sk-container-id-1\" class=\"sk-top-container\"><div class=\"sk-text-repr-fallback\"><pre>RandomForestClassifier(random_state=42)</pre><b>In a Jupyter environment, please rerun this cell to show the HTML representation or trust the notebook. <br />On GitHub, the HTML representation is unable to render, please try loading this page with nbviewer.org.</b></div><div class=\"sk-container\" hidden><div class=\"sk-item\"><div class=\"sk-estimator sk-toggleable\"><input class=\"sk-toggleable__control sk-hidden--visually\" id=\"sk-estimator-id-1\" type=\"checkbox\" checked><label for=\"sk-estimator-id-1\" class=\"sk-toggleable__label sk-toggleable__label-arrow\">RandomForestClassifier</label><div class=\"sk-toggleable__content\"><pre>RandomForestClassifier(random_state=42)</pre></div></div></div></div></div>"
      ],
      "text/plain": [
       "RandomForestClassifier(random_state=42)"
      ]
     },
     "execution_count": 16,
     "metadata": {},
     "output_type": "execute_result"
    }
   ],
   "source": [
    "from sklearn.model_selection import train_test_split\n",
    "\n",
    "X_train, X_val, y_train, y_val = train_test_split(X, y, test_size=0.2, stratify=y, random_state=42)\n",
    "\n",
    "from sklearn.ensemble import RandomForestClassifier\n",
    "model = RandomForestClassifier(n_estimators=100, random_state=42)\n",
    "model.fit(X_train, y_train)"
   ]
  },
  {
   "cell_type": "code",
   "execution_count": 17,
   "id": "d8a335ac",
   "metadata": {
    "execution": {
     "iopub.execute_input": "2025-07-29T18:29:15.474741Z",
     "iopub.status.busy": "2025-07-29T18:29:15.474383Z",
     "iopub.status.idle": "2025-07-29T18:29:15.615826Z",
     "shell.execute_reply": "2025-07-29T18:29:15.614625Z"
    },
    "papermill": {
     "duration": 0.150883,
     "end_time": "2025-07-29T18:29:15.618298",
     "exception": false,
     "start_time": "2025-07-29T18:29:15.467415",
     "status": "completed"
    },
    "tags": []
   },
   "outputs": [
    {
     "data": {
      "text/html": [
       "<div>\n",
       "<style scoped>\n",
       "    .dataframe tbody tr th:only-of-type {\n",
       "        vertical-align: middle;\n",
       "    }\n",
       "\n",
       "    .dataframe tbody tr th {\n",
       "        vertical-align: top;\n",
       "    }\n",
       "\n",
       "    .dataframe thead th {\n",
       "        text-align: right;\n",
       "    }\n",
       "</style>\n",
       "<table border=\"1\" class=\"dataframe\">\n",
       "  <thead>\n",
       "    <tr style=\"text-align: right;\">\n",
       "      <th></th>\n",
       "      <th>id</th>\n",
       "      <th>Personality</th>\n",
       "      <th>target</th>\n",
       "    </tr>\n",
       "  </thead>\n",
       "  <tbody>\n",
       "    <tr>\n",
       "      <th>0</th>\n",
       "      <td>18524</td>\n",
       "      <td>Extrovert</td>\n",
       "      <td>Extrovert</td>\n",
       "    </tr>\n",
       "    <tr>\n",
       "      <th>1</th>\n",
       "      <td>18525</td>\n",
       "      <td>Extrovert</td>\n",
       "      <td>Introvert</td>\n",
       "    </tr>\n",
       "    <tr>\n",
       "      <th>2</th>\n",
       "      <td>18526</td>\n",
       "      <td>Extrovert</td>\n",
       "      <td>Extrovert</td>\n",
       "    </tr>\n",
       "    <tr>\n",
       "      <th>3</th>\n",
       "      <td>18527</td>\n",
       "      <td>Extrovert</td>\n",
       "      <td>Extrovert</td>\n",
       "    </tr>\n",
       "    <tr>\n",
       "      <th>4</th>\n",
       "      <td>18528</td>\n",
       "      <td>Extrovert</td>\n",
       "      <td>Introvert</td>\n",
       "    </tr>\n",
       "  </tbody>\n",
       "</table>\n",
       "</div>"
      ],
      "text/plain": [
       "      id Personality     target\n",
       "0  18524   Extrovert  Extrovert\n",
       "1  18525   Extrovert  Introvert\n",
       "2  18526   Extrovert  Extrovert\n",
       "3  18527   Extrovert  Extrovert\n",
       "4  18528   Extrovert  Introvert"
      ]
     },
     "execution_count": 17,
     "metadata": {},
     "output_type": "execute_result"
    }
   ],
   "source": [
    "test_preds = model.predict(test)\n",
    "\n",
    "# Convert predictions back to original labels\n",
    "test_preds_labels = le.inverse_transform(test_preds)\n",
    "\n",
    "# Prepare submission\n",
    "submission[\"target\"] = test_preds_labels\n",
    "submission.to_csv(\"submission.csv\", index=False)\n",
    "submission.head()"
   ]
  },
  {
   "cell_type": "code",
   "execution_count": 18,
   "id": "89c61301",
   "metadata": {
    "execution": {
     "iopub.execute_input": "2025-07-29T18:29:15.631504Z",
     "iopub.status.busy": "2025-07-29T18:29:15.631002Z",
     "iopub.status.idle": "2025-07-29T18:29:15.637510Z",
     "shell.execute_reply": "2025-07-29T18:29:15.636289Z"
    },
    "papermill": {
     "duration": 0.015531,
     "end_time": "2025-07-29T18:29:15.639636",
     "exception": false,
     "start_time": "2025-07-29T18:29:15.624105",
     "status": "completed"
    },
    "tags": []
   },
   "outputs": [
    {
     "name": "stdout",
     "output_type": "stream",
     "text": [
      "6175\n"
     ]
    }
   ],
   "source": [
    "print(len(submission))"
   ]
  }
 ],
 "metadata": {
  "kaggle": {
   "accelerator": "none",
   "dataSources": [
    {
     "databundleVersionId": 12738969,
     "sourceId": 91718,
     "sourceType": "competition"
    }
   ],
   "dockerImageVersionId": 31089,
   "isGpuEnabled": false,
   "isInternetEnabled": false,
   "language": "python",
   "sourceType": "notebook"
  },
  "kernelspec": {
   "display_name": "Python 3",
   "language": "python",
   "name": "python3"
  },
  "language_info": {
   "codemirror_mode": {
    "name": "ipython",
    "version": 3
   },
   "file_extension": ".py",
   "mimetype": "text/x-python",
   "name": "python",
   "nbconvert_exporter": "python",
   "pygments_lexer": "ipython3",
   "version": "3.11.13"
  },
  "papermill": {
   "default_parameters": {},
   "duration": 18.922302,
   "end_time": "2025-07-29T18:29:16.569493",
   "environment_variables": {},
   "exception": null,
   "input_path": "__notebook__.ipynb",
   "output_path": "__notebook__.ipynb",
   "parameters": {},
   "start_time": "2025-07-29T18:28:57.647191",
   "version": "2.6.0"
  }
 },
 "nbformat": 4,
 "nbformat_minor": 5
}
