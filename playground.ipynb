{
 "cells": [
  {
   "cell_type": "code",
   "execution_count": 1,
   "id": "99180f52",
   "metadata": {
    "execution": {
     "iopub.execute_input": "2025-07-29T00:37:37.667414Z",
     "iopub.status.busy": "2025-07-29T00:37:37.667085Z",
     "iopub.status.idle": "2025-07-29T00:37:42.845953Z",
     "shell.execute_reply": "2025-07-29T00:37:42.844838Z"
    },
    "papermill": {
     "duration": 5.185257,
     "end_time": "2025-07-29T00:37:42.848218",
     "exception": false,
     "start_time": "2025-07-29T00:37:37.662961",
     "status": "completed"
    },
    "tags": []
   },
   "outputs": [],
   "source": [
    "import numpy as np\n",
    "import pandas as pd\n",
    "import matplotlib.pyplot as plt\n",
    "import seaborn as sns\n",
    "from sklearn.model_selection import train_test_split\n",
    "from sklearn.ensemble import RandomForestClassifier\n",
    "from sklearn.metrics import accuracy_score"
   ]
  },
  {
   "cell_type": "code",
   "execution_count": 2,
   "id": "487c4437",
   "metadata": {
    "execution": {
     "iopub.execute_input": "2025-07-29T00:37:42.855634Z",
     "iopub.status.busy": "2025-07-29T00:37:42.855104Z",
     "iopub.status.idle": "2025-07-29T00:37:42.909947Z",
     "shell.execute_reply": "2025-07-29T00:37:42.908844Z"
    },
    "papermill": {
     "duration": 0.060459,
     "end_time": "2025-07-29T00:37:42.911904",
     "exception": false,
     "start_time": "2025-07-29T00:37:42.851445",
     "status": "completed"
    },
    "tags": []
   },
   "outputs": [],
   "source": [
    "train = pd.read_csv(\"/kaggle/input/playground-series-s5e7/train.csv\")"
   ]
  },
  {
   "cell_type": "code",
   "execution_count": 3,
   "id": "f04ea7b9",
   "metadata": {
    "execution": {
     "iopub.execute_input": "2025-07-29T00:37:42.918115Z",
     "iopub.status.busy": "2025-07-29T00:37:42.917770Z",
     "iopub.status.idle": "2025-07-29T00:37:42.934846Z",
     "shell.execute_reply": "2025-07-29T00:37:42.933975Z"
    },
    "papermill": {
     "duration": 0.021876,
     "end_time": "2025-07-29T00:37:42.936429",
     "exception": false,
     "start_time": "2025-07-29T00:37:42.914553",
     "status": "completed"
    },
    "tags": []
   },
   "outputs": [],
   "source": [
    "test = pd.read_csv(\"/kaggle/input/playground-series-s5e7/test.csv\")"
   ]
  },
  {
   "cell_type": "code",
   "execution_count": 4,
   "id": "0a286c16",
   "metadata": {
    "execution": {
     "iopub.execute_input": "2025-07-29T00:37:42.942216Z",
     "iopub.status.busy": "2025-07-29T00:37:42.941834Z",
     "iopub.status.idle": "2025-07-29T00:37:42.955561Z",
     "shell.execute_reply": "2025-07-29T00:37:42.954611Z"
    },
    "papermill": {
     "duration": 0.018593,
     "end_time": "2025-07-29T00:37:42.957288",
     "exception": false,
     "start_time": "2025-07-29T00:37:42.938695",
     "status": "completed"
    },
    "tags": []
   },
   "outputs": [],
   "source": [
    "submission = pd.read_csv(\"/kaggle/input/playground-series-s5e7/sample_submission.csv\")"
   ]
  },
  {
   "cell_type": "code",
   "execution_count": 5,
   "id": "6f3bc7f9",
   "metadata": {
    "execution": {
     "iopub.execute_input": "2025-07-29T00:37:42.963288Z",
     "iopub.status.busy": "2025-07-29T00:37:42.962918Z",
     "iopub.status.idle": "2025-07-29T00:37:42.994761Z",
     "shell.execute_reply": "2025-07-29T00:37:42.993732Z"
    },
    "papermill": {
     "duration": 0.036947,
     "end_time": "2025-07-29T00:37:42.996573",
     "exception": false,
     "start_time": "2025-07-29T00:37:42.959626",
     "status": "completed"
    },
    "tags": []
   },
   "outputs": [
    {
     "name": "stderr",
     "output_type": "stream",
     "text": [
      "/usr/local/lib/python3.11/dist-packages/pandas/io/formats/format.py:1458: RuntimeWarning: invalid value encountered in greater\n",
      "  has_large_values = (abs_vals > 1e6).any()\n",
      "/usr/local/lib/python3.11/dist-packages/pandas/io/formats/format.py:1459: RuntimeWarning: invalid value encountered in less\n",
      "  has_small_values = ((abs_vals < 10 ** (-self.digits)) & (abs_vals > 0)).any()\n",
      "/usr/local/lib/python3.11/dist-packages/pandas/io/formats/format.py:1459: RuntimeWarning: invalid value encountered in greater\n",
      "  has_small_values = ((abs_vals < 10 ** (-self.digits)) & (abs_vals > 0)).any()\n"
     ]
    },
    {
     "data": {
      "text/html": [
       "<div>\n",
       "<style scoped>\n",
       "    .dataframe tbody tr th:only-of-type {\n",
       "        vertical-align: middle;\n",
       "    }\n",
       "\n",
       "    .dataframe tbody tr th {\n",
       "        vertical-align: top;\n",
       "    }\n",
       "\n",
       "    .dataframe thead th {\n",
       "        text-align: right;\n",
       "    }\n",
       "</style>\n",
       "<table border=\"1\" class=\"dataframe\">\n",
       "  <thead>\n",
       "    <tr style=\"text-align: right;\">\n",
       "      <th></th>\n",
       "      <th>id</th>\n",
       "      <th>Time_spent_Alone</th>\n",
       "      <th>Stage_fear</th>\n",
       "      <th>Social_event_attendance</th>\n",
       "      <th>Going_outside</th>\n",
       "      <th>Drained_after_socializing</th>\n",
       "      <th>Friends_circle_size</th>\n",
       "      <th>Post_frequency</th>\n",
       "      <th>Personality</th>\n",
       "    </tr>\n",
       "  </thead>\n",
       "  <tbody>\n",
       "    <tr>\n",
       "      <th>0</th>\n",
       "      <td>0</td>\n",
       "      <td>0.0</td>\n",
       "      <td>No</td>\n",
       "      <td>6.0</td>\n",
       "      <td>4.0</td>\n",
       "      <td>No</td>\n",
       "      <td>15.0</td>\n",
       "      <td>5.0</td>\n",
       "      <td>Extrovert</td>\n",
       "    </tr>\n",
       "    <tr>\n",
       "      <th>1</th>\n",
       "      <td>1</td>\n",
       "      <td>1.0</td>\n",
       "      <td>No</td>\n",
       "      <td>7.0</td>\n",
       "      <td>3.0</td>\n",
       "      <td>No</td>\n",
       "      <td>10.0</td>\n",
       "      <td>8.0</td>\n",
       "      <td>Extrovert</td>\n",
       "    </tr>\n",
       "    <tr>\n",
       "      <th>2</th>\n",
       "      <td>2</td>\n",
       "      <td>6.0</td>\n",
       "      <td>Yes</td>\n",
       "      <td>1.0</td>\n",
       "      <td>0.0</td>\n",
       "      <td>NaN</td>\n",
       "      <td>3.0</td>\n",
       "      <td>0.0</td>\n",
       "      <td>Introvert</td>\n",
       "    </tr>\n",
       "    <tr>\n",
       "      <th>3</th>\n",
       "      <td>3</td>\n",
       "      <td>3.0</td>\n",
       "      <td>No</td>\n",
       "      <td>7.0</td>\n",
       "      <td>3.0</td>\n",
       "      <td>No</td>\n",
       "      <td>11.0</td>\n",
       "      <td>5.0</td>\n",
       "      <td>Extrovert</td>\n",
       "    </tr>\n",
       "    <tr>\n",
       "      <th>4</th>\n",
       "      <td>4</td>\n",
       "      <td>1.0</td>\n",
       "      <td>No</td>\n",
       "      <td>4.0</td>\n",
       "      <td>4.0</td>\n",
       "      <td>No</td>\n",
       "      <td>13.0</td>\n",
       "      <td>NaN</td>\n",
       "      <td>Extrovert</td>\n",
       "    </tr>\n",
       "  </tbody>\n",
       "</table>\n",
       "</div>"
      ],
      "text/plain": [
       "   id  Time_spent_Alone Stage_fear  Social_event_attendance  Going_outside  \\\n",
       "0   0               0.0         No                      6.0            4.0   \n",
       "1   1               1.0         No                      7.0            3.0   \n",
       "2   2               6.0        Yes                      1.0            0.0   \n",
       "3   3               3.0         No                      7.0            3.0   \n",
       "4   4               1.0         No                      4.0            4.0   \n",
       "\n",
       "  Drained_after_socializing  Friends_circle_size  Post_frequency Personality  \n",
       "0                        No                 15.0             5.0   Extrovert  \n",
       "1                        No                 10.0             8.0   Extrovert  \n",
       "2                       NaN                  3.0             0.0   Introvert  \n",
       "3                        No                 11.0             5.0   Extrovert  \n",
       "4                        No                 13.0             NaN   Extrovert  "
      ]
     },
     "execution_count": 5,
     "metadata": {},
     "output_type": "execute_result"
    }
   ],
   "source": [
    "train.head()"
   ]
  },
  {
   "cell_type": "code",
   "execution_count": 6,
   "id": "352350f2",
   "metadata": {
    "execution": {
     "iopub.execute_input": "2025-07-29T00:37:43.003195Z",
     "iopub.status.busy": "2025-07-29T00:37:43.002697Z",
     "iopub.status.idle": "2025-07-29T00:37:43.016691Z",
     "shell.execute_reply": "2025-07-29T00:37:43.015346Z"
    },
    "papermill": {
     "duration": 0.019175,
     "end_time": "2025-07-29T00:37:43.018334",
     "exception": false,
     "start_time": "2025-07-29T00:37:42.999159",
     "status": "completed"
    },
    "tags": []
   },
   "outputs": [
    {
     "name": "stdout",
     "output_type": "stream",
     "text": [
      "Shape: (18524, 9)\n",
      "Columns: Index(['id', 'Time_spent_Alone', 'Stage_fear', 'Social_event_attendance',\n",
      "       'Going_outside', 'Drained_after_socializing', 'Friends_circle_size',\n",
      "       'Post_frequency', 'Personality'],\n",
      "      dtype='object')\n",
      "Missing values:\n",
      " id                              0\n",
      "Time_spent_Alone             1190\n",
      "Stage_fear                   1893\n",
      "Social_event_attendance      1180\n",
      "Going_outside                1466\n",
      "Drained_after_socializing    1149\n",
      "Friends_circle_size          1054\n",
      "Post_frequency               1264\n",
      "Personality                     0\n",
      "dtype: int64\n"
     ]
    }
   ],
   "source": [
    "print(\"Shape:\", train.shape)\n",
    "print(\"Columns:\", train.columns)\n",
    "print(\"Missing values:\\n\", train.isnull().sum())\n"
   ]
  },
  {
   "cell_type": "code",
   "execution_count": 7,
   "id": "40d819f8",
   "metadata": {
    "execution": {
     "iopub.execute_input": "2025-07-29T00:37:43.025653Z",
     "iopub.status.busy": "2025-07-29T00:37:43.024606Z",
     "iopub.status.idle": "2025-07-29T00:37:43.334327Z",
     "shell.execute_reply": "2025-07-29T00:37:43.333443Z"
    },
    "papermill": {
     "duration": 0.314938,
     "end_time": "2025-07-29T00:37:43.336001",
     "exception": false,
     "start_time": "2025-07-29T00:37:43.021063",
     "status": "completed"
    },
    "tags": []
   },
   "outputs": [
    {
     "data": {
      "image/png": "[encoded data removed]",
      "text/plain": [
       "<Figure size 640x480 with 1 Axes>"
      ]
     },
     "metadata": {},
     "output_type": "display_data"
    }
   ],
   "source": [
    "train.describe()\n",
    "sns.countplot(x=train[\"Personality\"])\n",
    "plt.title(\"Target Distribution\")\n",
    "plt.show()"
   ]
  }
 ],
 "metadata": {
  "kaggle": {
   "accelerator": "none",
   "dataSources": [
    {
     "databundleVersionId": 12738969,
     "sourceId": 91718,
     "sourceType": "competition"
    }
   ],
   "dockerImageVersionId": 31089,
   "isGpuEnabled": false,
   "isInternetEnabled": false,
   "language": "python",
   "sourceType": "notebook"
  },
  "kernelspec": {
   "display_name": "Python 3",
   "language": "python",
   "name": "python3"
  },
  "language_info": {
   "codemirror_mode": {
    "name": "ipython",
    "version": 3
   },
   "file_extension": ".py",
   "mimetype": "text/x-python",
   "name": "python",
   "nbconvert_exporter": "python",
   "pygments_lexer": "ipython3",
   "version": "3.11.13"
  },
  "papermill": {
   "default_parameters": {},
   "duration": 11.706747,
   "end_time": "2025-07-29T00:37:44.159781",
   "environment_variables": {},
   "exception": null,
   "input_path": "__notebook__.ipynb",
   "output_path": "__notebook__.ipynb",
   "parameters": {},
   "start_time": "2025-07-29T00:37:32.453034",
   "version": "2.6.0"
  }
 },
 "nbformat": 4,
 "nbformat_minor": 5
}
